{
 "cells": [
  {
   "cell_type": "code",
   "execution_count": 1,
   "id": "95300d32-a861-408d-a0da-4414c55f6be2",
   "metadata": {},
   "outputs": [],
   "source": [
    "# Geocoding : 자연어로 구성된 주소데이터를 좌표로 변환\n",
    "# ex) 서울 중구 세종대로 40 --> {'x':'126.975', 'y':'37.56'}\n",
    "# 브이월드에서 인증키 받음 : 8F1A603F-C791-3276-8E4B-9551443DF40B"
   ]
  },
  {
   "cell_type": "code",
   "execution_count": 9,
   "id": "3565379b-eae7-4cf6-9b11-a8edcaf2b4ec",
   "metadata": {},
   "outputs": [
    {
     "data": {
      "text/plain": [
       "{'response': {'service': {'name': 'address',\n",
       "   'version': '2.0',\n",
       "   'operation': 'getcoord',\n",
       "   'time': '35(ms)'},\n",
       "  'status': 'OK',\n",
       "  'input': {'type': 'road', 'address': '판교로 242'},\n",
       "  'refined': {'text': '경기도 성남시 분당구 판교로 242 (삼평동)',\n",
       "   'structure': {'level0': '대한민국',\n",
       "    'level1': '경기도',\n",
       "    'level2': '성남시 분당구',\n",
       "    'level3': '삼평동',\n",
       "    'level4L': '판교로',\n",
       "    'level4LC': '',\n",
       "    'level4A': '삼평동',\n",
       "    'level4AC': '4113565500',\n",
       "    'level5': '242',\n",
       "    'detail': ''}},\n",
       "  'result': {'crs': 'EPSG:4326',\n",
       "   'point': {'x': '127.101313354', 'y': '37.402352535'}}}}"
      ]
     },
     "execution_count": 9,
     "metadata": {},
     "output_type": "execute_result"
    }
   ],
   "source": [
    "# geocoder api로 판교로 242의 x좌표, y좌표를 알아낼 수 있다.\n",
    "import requests\n",
    "apiurl = \"https://api.vworld.kr/req/address?\"\n",
    "params = {\n",
    "    \"service\": \"address\",\n",
    "    \"request\": \"getcoord\",\n",
    "    \"crs\": \"epsg:4326\",\n",
    "    \"address\": \"판교로 242\",\n",
    "    \"format\": \"json\",\n",
    "    \"type\": \"road\",\n",
    "    \"key\": \"8F1A603F-C791-3276-8E4B-9551443DF40B\"\n",
    "}\n",
    "response = requests.get(apiurl, params=params)\n",
    "data = response.json()\n",
    "data"
   ]
  },
  {
   "cell_type": "code",
   "execution_count": 25,
   "id": "55958c7d-9d47-4568-912d-9f54e044a19a",
   "metadata": {},
   "outputs": [
    {
     "name": "stdout",
     "output_type": "stream",
     "text": [
      "127.101313354 37.402352535\n"
     ]
    }
   ],
   "source": [
    "# 위 결과에서 좌표만 파싱\n",
    "x = data[\"response\"][\"result\"][\"point\"][\"x\"]\n",
    "y = data[\"response\"][\"result\"][\"point\"][\"y\"]\n",
    "print(x,y)"
   ]
  }
 ],
 "metadata": {
  "kernelspec": {
   "display_name": "geo",
   "language": "python",
   "name": "geo"
  },
  "language_info": {
   "codemirror_mode": {
    "name": "ipython",
    "version": 3
   },
   "file_extension": ".py",
   "mimetype": "text/x-python",
   "name": "python",
   "nbconvert_exporter": "python",
   "pygments_lexer": "ipython3",
   "version": "3.11.9"
  }
 },
 "nbformat": 4,
 "nbformat_minor": 5
}
